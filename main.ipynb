{
 "cells": [
  {
   "cell_type": "code",
   "execution_count": 44,
   "metadata": {},
   "outputs": [
    {
     "name": "stderr",
     "output_type": "stream",
     "text": [
      "C:\\Users\\Luke\\AppData\\Local\\Temp\\ipykernel_25336\\665881931.py:17: FutureWarning: The frame.append method is deprecated and will be removed from pandas in a future version. Use pandas.concat instead.\n",
      "  synthMerge = synth1.append(synth2, ignore_index= True)\n",
      "C:\\Users\\Luke\\AppData\\Local\\Temp\\ipykernel_25336\\665881931.py:18: FutureWarning: The frame.append method is deprecated and will be removed from pandas in a future version. Use pandas.concat instead.\n",
      "  synthMerge = synthMerge.append(synth3, ignore_index= True)\n",
      "C:\\Users\\Luke\\AppData\\Local\\Temp\\ipykernel_25336\\665881931.py:19: FutureWarning: The frame.append method is deprecated and will be removed from pandas in a future version. Use pandas.concat instead.\n",
      "  synthMerge = synthMerge.append(synth4, ignore_index= True)\n"
     ]
    }
   ],
   "source": [
    "import pandas as pd\n",
    "import numpy as np\n",
    "\n",
    "# import data to pandas database\n",
    "synth1 = pd.read_csv('data\\synthetic-1.csv', header= 0)\n",
    "synth2 = pd.read_csv('data\\synthetic-2.csv', header= 0)\n",
    "synth3 = pd.read_csv('data\\synthetic-3.csv', header= 0)\n",
    "synth4 = pd.read_csv('data\\synthetic-4.csv', header= 0 )\n",
    "\n",
    "# set column titles\n",
    "synth1.columns = ['Feature1', 'Feature2', 'ClassLabel']\n",
    "synth2.columns = ['Feature1', 'Feature2', 'ClassLabel']\n",
    "synth3.columns = ['Feature1', 'Feature2', 'ClassLabel']\n",
    "synth4.columns = ['Feature1', 'Feature2', 'ClassLabel']\n",
    "\n",
    "# append datasets together\n",
    "synthMerge = synth1.append(synth2, ignore_index= True)\n",
    "synthMerge = synthMerge.append(synth3, ignore_index= True)\n",
    "synthMerge = synthMerge.append(synth4, ignore_index= True)"
   ]
  },
  {
   "cell_type": "code",
   "execution_count": 45,
   "metadata": {},
   "outputs": [
    {
     "data": {
      "text/html": [
       "<div>\n",
       "<style scoped>\n",
       "    .dataframe tbody tr th:only-of-type {\n",
       "        vertical-align: middle;\n",
       "    }\n",
       "\n",
       "    .dataframe tbody tr th {\n",
       "        vertical-align: top;\n",
       "    }\n",
       "\n",
       "    .dataframe thead th {\n",
       "        text-align: right;\n",
       "    }\n",
       "</style>\n",
       "<table border=\"1\" class=\"dataframe\">\n",
       "  <thead>\n",
       "    <tr style=\"text-align: right;\">\n",
       "      <th></th>\n",
       "      <th>Feature1</th>\n",
       "      <th>Feature2</th>\n",
       "      <th>ClassLabel</th>\n",
       "    </tr>\n",
       "  </thead>\n",
       "  <tbody>\n",
       "    <tr>\n",
       "      <th>0</th>\n",
       "      <td>10.81300</td>\n",
       "      <td>0.77631</td>\n",
       "      <td>1</td>\n",
       "    </tr>\n",
       "    <tr>\n",
       "      <th>1</th>\n",
       "      <td>8.74050</td>\n",
       "      <td>1.26280</td>\n",
       "      <td>1</td>\n",
       "    </tr>\n",
       "    <tr>\n",
       "      <th>2</th>\n",
       "      <td>11.18400</td>\n",
       "      <td>4.37280</td>\n",
       "      <td>1</td>\n",
       "    </tr>\n",
       "    <tr>\n",
       "      <th>3</th>\n",
       "      <td>12.27200</td>\n",
       "      <td>-2.39240</td>\n",
       "      <td>1</td>\n",
       "    </tr>\n",
       "    <tr>\n",
       "      <th>4</th>\n",
       "      <td>10.82600</td>\n",
       "      <td>2.57780</td>\n",
       "      <td>1</td>\n",
       "    </tr>\n",
       "    <tr>\n",
       "      <th>...</th>\n",
       "      <td>...</td>\n",
       "      <td>...</td>\n",
       "      <td>...</td>\n",
       "    </tr>\n",
       "    <tr>\n",
       "      <th>791</th>\n",
       "      <td>3.04470</td>\n",
       "      <td>-7.38210</td>\n",
       "      <td>0</td>\n",
       "    </tr>\n",
       "    <tr>\n",
       "      <th>792</th>\n",
       "      <td>6.99790</td>\n",
       "      <td>10.22000</td>\n",
       "      <td>0</td>\n",
       "    </tr>\n",
       "    <tr>\n",
       "      <th>793</th>\n",
       "      <td>-0.16424</td>\n",
       "      <td>-6.37990</td>\n",
       "      <td>0</td>\n",
       "    </tr>\n",
       "    <tr>\n",
       "      <th>794</th>\n",
       "      <td>-3.02820</td>\n",
       "      <td>-0.61758</td>\n",
       "      <td>0</td>\n",
       "    </tr>\n",
       "    <tr>\n",
       "      <th>795</th>\n",
       "      <td>9.04990</td>\n",
       "      <td>7.67920</td>\n",
       "      <td>0</td>\n",
       "    </tr>\n",
       "  </tbody>\n",
       "</table>\n",
       "<p>796 rows × 3 columns</p>\n",
       "</div>"
      ],
      "text/plain": [
       "     Feature1  Feature2  ClassLabel\n",
       "0    10.81300   0.77631           1\n",
       "1     8.74050   1.26280           1\n",
       "2    11.18400   4.37280           1\n",
       "3    12.27200  -2.39240           1\n",
       "4    10.82600   2.57780           1\n",
       "..        ...       ...         ...\n",
       "791   3.04470  -7.38210           0\n",
       "792   6.99790  10.22000           0\n",
       "793  -0.16424  -6.37990           0\n",
       "794  -3.02820  -0.61758           0\n",
       "795   9.04990   7.67920           0\n",
       "\n",
       "[796 rows x 3 columns]"
      ]
     },
     "execution_count": 45,
     "metadata": {},
     "output_type": "execute_result"
    }
   ],
   "source": [
    "#  Display new dataframe\n",
    "synthMerge"
   ]
  },
  {
   "cell_type": "code",
   "execution_count": 48,
   "metadata": {},
   "outputs": [
    {
     "data": {
      "text/plain": [
       "0.9999817845368457"
      ]
     },
     "execution_count": 48,
     "metadata": {},
     "output_type": "execute_result"
    }
   ],
   "source": [
    "# calculate entropy \n",
    "synthMerge['ClassLabel'].value_counts()\n",
    "\n",
    "# count the different class labels\n",
    "numOfNo = len(synthMerge[synthMerge['ClassLabel'] == 0])\n",
    "numOfYes = len(synthMerge[synthMerge['ClassLabel'] == 1])\n",
    "numTotal = synthMerge.shape[0]\n",
    "\n",
    "entropy = -(numOfYes/numTotal) * np.log2(numOfYes/numTotal) - (numOfNo/numTotal) * np.log2(numOfNo/numTotal)\n",
    "\n",
    "# Entropy = 0.9999817845368457"
   ]
  },
  {
   "cell_type": "code",
   "execution_count": 56,
   "metadata": {},
   "outputs": [
    {
     "data": {
      "text/plain": [
       "2.5027999999999997"
      ]
     },
     "execution_count": 56,
     "metadata": {},
     "output_type": "execute_result"
    }
   ],
   "source": [
    "# Threshold Offset \n",
    "\n",
    "f1Max = synthMerge['Feature1'].max() # 14.412\n",
    "f1Min = synthMerge['Feature2'].min() # -10.616 \n",
    "thresholdVal = 10\n",
    "\n",
    "f1ThresholdOffset = (f1Max - f1Min)/thresholdVal\n",
    "\n",
    "f1ThresholdOffset"
   ]
  }
 ],
 "metadata": {
  "kernelspec": {
   "display_name": "Python 3.9.13 64-bit ('anaconda3')",
   "language": "python",
   "name": "python3"
  },
  "language_info": {
   "codemirror_mode": {
    "name": "ipython",
    "version": 3
   },
   "file_extension": ".py",
   "mimetype": "text/x-python",
   "name": "python",
   "nbconvert_exporter": "python",
   "pygments_lexer": "ipython3",
   "version": "3.9.13"
  },
  "orig_nbformat": 4,
  "vscode": {
   "interpreter": {
    "hash": "059d6054bc20a14c7fd55fd7cb31bbf5efb0e5e3bf40968536bd0e07cf9beb99"
   }
  }
 },
 "nbformat": 4,
 "nbformat_minor": 2
}
