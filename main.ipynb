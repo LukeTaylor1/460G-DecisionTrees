{
 "cells": [
  {
   "cell_type": "code",
   "execution_count": null,
   "metadata": {},
   "outputs": [],
   "source": [
    "import pandas as pd\n",
    "import numpy as np\n",
    "\n",
    "# import data to pandas database\n",
    "synth1 = pd.read_csv('data\\synthetic-1.csv', header= 0)\n",
    "synth2 = pd.read_csv('data\\synthetic-2.csv', header= 0)\n",
    "synth3 = pd.read_csv('data\\synthetic-3.csv', header= 0)\n",
    "synth4 = pd.read_csv('data\\synthetic-4.csv', header= 0 )\n",
    "\n",
    "# set column titles\n",
    "synth1.columns = ['Feature1', 'Feature2', 'ClassLabel']\n",
    "synth2.columns = ['Feature1', 'Feature2', 'ClassLabel']\n",
    "synth3.columns = ['Feature1', 'Feature2', 'ClassLabel']\n",
    "synth4.columns = ['Feature1', 'Feature2', 'ClassLabel']\n",
    "\n",
    "# append datasets together\n",
    "synthMerge = synth1.append(synth2, ignore_index= True)\n",
    "synthMerge = synthMerge.append(synth3, ignore_index= True)\n",
    "\n",
    "# save syn4 for test \n",
    "# synthMerge = synthMerge.append(synth4, ignore_index= True)\n",
    "\n",
    "# create array of features, takes out the target column\n",
    "featureNames = synthMerge.columns.values.tolist()\n",
    "featureNames.pop()"
   ]
  },
  {
   "cell_type": "code",
   "execution_count": null,
   "metadata": {},
   "outputs": [],
   "source": [
    "#  Display new dataframe\n",
    "synthMerge"
   ]
  },
  {
   "cell_type": "code",
   "execution_count": null,
   "metadata": {},
   "outputs": [],
   "source": [
    "# calculate entropy \n",
    "synthMerge['ClassLabel'].value_counts()\n",
    "\n",
    "# count the different class labels\n",
    "numOfNo = len(synthMerge[synthMerge['ClassLabel'] == 0])\n",
    "numOfYes = len(synthMerge[synthMerge['ClassLabel'] == 1])\n",
    "numTotal = synthMerge.shape[0]\n",
    "\n",
    "entropy = -(numOfYes/numTotal) * np.log2(numOfYes/numTotal) - (numOfNo/numTotal) * np.log2(numOfNo/numTotal)\n",
    "\n",
    "# Entropy = 0.9999817845368457"
   ]
  },
  {
   "cell_type": "code",
   "execution_count": null,
   "metadata": {},
   "outputs": [],
   "source": [
    "# Threshold Offset \n",
    "\n",
    "f1Max = synthMerge['Feature1'].max() # 14.412\n",
    "f1Min = synthMerge['Feature1'].min() # -10.616 \n",
    "trainNewFeature1 = []\n",
    "trainNewFeature2 = []\n",
    "\n",
    "# discretize train \n",
    "discretizeF1 = np.digitize(synthMerge['Feature1'],bins=[ -16, -14, -12, -10, -8, -6, -4, -2, 0, 2, 4, 6, 8, 10, 12])\n",
    "discretizeF2 = np.digitize(synthMerge['Feature2'],bins=[-12, -10, -8, -6, -4, -2, 0, 2, 4, 6, 8, 10, 12])\n",
    "\n",
    "trainNewFeature1 = discretizeF1.tolist()\n",
    "trainNewFeature2 = discretizeF2.tolist()\n",
    "\n",
    "dataframe = synthMerge.copy()\n",
    "\n",
    "dataframe[\"Feature1\"] = discretizeF1\n",
    "dataframe[\"Feature2\"] = discretizeF2\n",
    "\n",
    "\n",
    "\n",
    "# discretize test \n",
    "testNewFeature1 = []\n",
    "testNewFeature2 = []\n",
    "\n",
    "discretizeF1 = np.digitize(synth4['Feature1'],bins=[ -16, -14, -12, -10, -8, -6, -4, -2, 0, 2, 4, 6, 8, 10, 12])\n",
    "discretizeF2 = np.digitize(synth4['Feature2'],bins=[-12, -10, -8, -6, -4, -2, 0, 2, 4, 6, 8, 10, 12])\n",
    "\n",
    "testNewFeature1 = discretizeF1.tolist()\n",
    "testNewFeature2 = discretizeF2.tolist()\n",
    "\n",
    "testDataframe = synth4.copy()\n",
    "\n",
    "testDataframe[\"Feature1\"] = discretizeF1\n",
    "testDataframe[\"Feature2\"] = discretizeF2"
   ]
  },
  {
   "cell_type": "code",
   "execution_count": 48,
   "metadata": {},
   "outputs": [],
   "source": [
    "\n",
    "# create node class\n",
    "# initializer function as well as child addition functuion\n",
    "class Node():\n",
    "    def __init__(self, attribute = None, left = None, right = None, leaf = False, children = [], label = None, threshold = float(\"inf\"), featureVals = [], prediction = None) :\n",
    "        self.attribute = attribute\n",
    "        self.children = children\n",
    "        self.prediction = prediction\n",
    "        self.featureVals = featureVals\n",
    "\n",
    "    def add_child(self, child):\n",
    "        self.children.append(child)\n",
    "\n",
    " # calculates entropy and returns int\n",
    "def entropy(targetAttribute):\n",
    "    hist = pd.Series(targetAttribute).value_counts().values\n",
    "    ps = hist / len(targetAttribute)\n",
    "    return -np.sum([p * np.log2(p) for p in ps if p > 0])\n",
    "\n",
    "# calculates information gain and returns value\n",
    "def informationGain(examples, targetAttribute, feature):\n",
    "    gain = entropy(targetAttribute)\n",
    "    thresholds = examples[feature].unique()\n",
    "\n",
    "    for threshold in thresholds:\n",
    "        split = examples[feature] <= threshold\n",
    "        gain -= split.mean() * entropy(targetAttribute[split])\n",
    "        gain -= (1 - split.mean()) * entropy(targetAttribute[~split])\n",
    "\n",
    "    return gain\n",
    "\n",
    "# decides the best feature to split on based of the information gain \n",
    "def bestFeature(examples, targetAttribute):\n",
    "    bestGain, bestFeature = -100000, None\n",
    "    for feature in examples.columns:\n",
    "        gain = informationGain(examples, targetAttribute, feature)\n",
    "        if gain > bestGain:\n",
    "            bestGain, bestFeature = gain, feature\n",
    "            \n",
    "    return bestFeature\n",
    "\n",
    "# recusive function the utilizes ID3 decision trees \n",
    "def id3(examples, targetAttribute, attributes, maxDepth= 10, depth= 0):\n",
    "\n",
    "    # if all the values are the same in the target, return node    \n",
    "    if len(np.unique(targetAttribute)) == 1:\n",
    "        return Node(prediction=targetAttribute.iloc[0])\n",
    "    # If there are no more attributes to split on, return the majority label\n",
    "    elif len(examples.columns) == 0:\n",
    "        return Node(prediction=np.bincount(targetAttribute).argmax())\n",
    "    else:\n",
    "        # find best attribute and split on it \n",
    "        bestAttribute = bestFeature(examples, targetAttribute)\n",
    "        root = Node(attribute= bestAttribute)\n",
    "        \n",
    "        # loop through and create decision tree based on the best possible attribute\n",
    "        for value in np.unique(examples[bestAttribute]):\n",
    "                X_subset = examples[examples[bestAttribute] == value].drop(columns=[bestAttribute])\n",
    "                y_subset = targetAttribute[examples[bestAttribute] == value]\n",
    "                subtree = id3(X_subset, y_subset, attributes, maxDepth, depth= 1 + depth)\n",
    "                subtree.value = value\n",
    "                root.add_child(subtree)\n",
    "    return root\n",
    "\n",
    "# predict new test data, return array \n",
    "def predict(examples, root):\n",
    "    predictions = []\n",
    "    for i in range(len(examples)):\n",
    "        node = root\n",
    "        while node.prediction is None:\n",
    "            attribute = node.attribute\n",
    "            value = examples[attribute].iloc[i]\n",
    "            found = False\n",
    "            for child in node.children:\n",
    "                if child.value == value:\n",
    "                    node = child\n",
    "                    found = True\n",
    "                    break\n",
    "            if not found:\n",
    "                # If the decision tree encounters an unknown value, return None\n",
    "                predictions.append(None)\n",
    "                break\n",
    "        if node.prediction is not None:\n",
    "            predictions.append(node.prediction)\n",
    "    return np.array(predictions)\n"
   ]
  },
  {
   "cell_type": "code",
   "execution_count": null,
   "metadata": {},
   "outputs": [],
   "source": [
    "attributes = featureNames\n",
    "\n",
    "targetAttribute = dataframe['ClassLabel'].copy()\n",
    "\n",
    "examples = dataframe.loc[:, dataframe.columns!='ClassLabel'].copy()\n",
    "\n",
    "tree = id3(examples, targetAttribute, attributes)\n",
    "\n",
    "testExamples = testDataframe.loc[:, testDataframe.columns!='ClassLabel'].copy()\n",
    "\n",
    "predictions = predict(testExamples, tree)\n"
   ]
  },
  {
   "cell_type": "code",
   "execution_count": null,
   "metadata": {},
   "outputs": [],
   "source": [
    "targetList = targetAttribute.to_list()\n",
    "\n",
    "max(set(targetList), key=targetList.count)\n",
    "\n",
    "\n",
    "dataframeDict = dataframe.copy()\n",
    "cols = dataframeDict.columns.tolist()\n",
    "cols = cols[-1:] + cols[:-1]\n",
    "dataframeDict = dataframeDict[cols]\n",
    "\n",
    "dataframeDict = dataframeDict.to_dict()\n",
    "dataframeDict['Feature1']"
   ]
  },
  {
   "cell_type": "code",
   "execution_count": null,
   "metadata": {},
   "outputs": [],
   "source": [
    "labels = [featureNames for x in dataframe]\n",
    "\n",
    "X = np.array(dataframe.drop('ClassLabel', axis= 1).copy())\n",
    "y = np.array(dataframe['ClassLabel'].copy())\n",
    "featureNames # ['Feature1', 'Feature2']\n",
    "\n",
    "\n",
    "x_ids = [x for x in range(len(X))]"
   ]
  },
  {
   "cell_type": "code",
   "execution_count": 53,
   "metadata": {},
   "outputs": [
    {
     "data": {
      "text/plain": [
       "<AxesSubplot:xlabel='Feature1', ylabel='ClassLabel'>"
      ]
     },
     "execution_count": 53,
     "metadata": {},
     "output_type": "execute_result"
    },
    {
     "data": {
      "image/png": "[encoded data removed]",
      "text/plain": [
       "<Figure size 640x480 with 1 Axes>"
      ]
     },
     "metadata": {},
     "output_type": "display_data"
    }
   ],
   "source": [
    "import matplotlib.pyplot as plt\n",
    "import seaborn as sns\n",
    "\n",
    "\n",
    "sns.scatterplot(data= dataframe, x= \"Feature1\", y= \"ClassLabel\")\n"
   ]
  },
  {
   "cell_type": "code",
   "execution_count": 54,
   "metadata": {},
   "outputs": [
    {
     "data": {
      "text/plain": [
       "<AxesSubplot:xlabel='Feature1', ylabel='Feature2'>"
      ]
     },
     "execution_count": 54,
     "metadata": {},
     "output_type": "execute_result"
    },
    {
     "data": {
      "image/png": "[encoded data removed]",
      "text/plain": [
       "<Figure size 640x480 with 1 Axes>"
      ]
     },
     "metadata": {},
     "output_type": "display_data"
    }
   ],
   "source": [
    "sns.boxplot(data= dataframe, x= \"Feature1\", y= \"Feature2\" )"
   ]
  },
  {
   "cell_type": "code",
   "execution_count": null,
   "metadata": {},
   "outputs": [],
   "source": [
    "# pokemon \n",
    "pokeX = pd.read_csv('data\\pokemonStats.csv')\n",
    "pokeY = pd.read_csv('data\\pokemonLegendary.csv')\n",
    "\n",
    "pokeData = pokeX.iloc[:, : 7].copy()\n",
    "\n",
    "pokeAttributes = pokeData.keys()\n",
    "\n",
    "pokeTree = id3(pokeData, pokeY, pokeAttributes)\n"
   ]
  }
 ],
 "metadata": {
  "kernelspec": {
   "display_name": "Python 3.9.13 64-bit ('anaconda3')",
   "language": "python",
   "name": "python3"
  },
  "language_info": {
   "codemirror_mode": {
    "name": "ipython",
    "version": 3
   },
   "file_extension": ".py",
   "mimetype": "text/x-python",
   "name": "python",
   "nbconvert_exporter": "python",
   "pygments_lexer": "ipython3",
   "version": "3.9.13 (main, Aug 25 2022, 23:51:50) [MSC v.1916 64 bit (AMD64)]"
  },
  "orig_nbformat": 4,
  "vscode": {
   "interpreter": {
    "hash": "059d6054bc20a14c7fd55fd7cb31bbf5efb0e5e3bf40968536bd0e07cf9beb99"
   }
  }
 },
 "nbformat": 4,
 "nbformat_minor": 2
}
